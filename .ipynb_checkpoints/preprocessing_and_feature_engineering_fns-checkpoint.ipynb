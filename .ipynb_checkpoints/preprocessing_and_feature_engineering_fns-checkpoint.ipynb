{
 "cells": [
  {
   "cell_type": "markdown",
   "id": "ba561b5b",
   "metadata": {},
   "source": [
    "In this notebook I defined the functiones that I have built to take care of the preprocessing of the dataset. The dataset is not massive, therefore, I am not going to implement advanced tools like Tensor Flow Extended to build the pipeline. I am going to perform a simple analysis of the data that I have collected but after doing the basic feature engineering work."
   ]
  },
  {
   "cell_type": "markdown",
   "id": "cebcc055",
   "metadata": {},
   "source": [
    "The data that I have gathered by recording myself is aready labeled, and I can trust the labeling because of the way that I have acquired it (I have worked my way through the alphabet one letter at a time recording the signs individually). These are the transformations that I decided that were indipensable improve the quality of the data:\n",
    "1. Using a different landmark coordinate system, I centered the nodes around the node 0. Initially they were arranged using one corner of the display (of video recorded with the webcam) as the origin. Using a landmark brings more consistency and improves the predictive value of the samples. The distance of the landmarks to a corner of the display does not have anything to do with the meaning of the sign.\n",
    "2. Normalizing the samples, when I recorded myself I could not us a fixed webcam-hand distance. All the samples are going to be scaled to 1x1. "
   ]
  },
  {
   "cell_type": "markdown",
   "id": "85e318fb",
   "metadata": {},
   "source": [
    "### Function to change the origin of the coordinates:"
   ]
  },
  {
   "cell_type": "markdown",
   "id": "5acf67a4",
   "metadata": {},
   "source": [
    "It takes the X (features) as an argument and substracts the vertical and horizontal coordinates from  the rest of the coordinates."
   ]
  },
  {
   "cell_type": "code",
   "execution_count": 1,
   "id": "dd5137c7",
   "metadata": {},
   "outputs": [],
   "source": [
    "def change_origin(X):\n",
    "    \n",
    "    x0 = X['x0'].copy()\n",
    "    y0 = X['y0'].copy()\n",
    "    counter = 0\n",
    "    \n",
    "    for column in X.columns:\n",
    "        \n",
    "        if counter%2 == 0:\n",
    "            X.loc[:,column] -= x0 #loc is faster, it computes the whole column at once instead of one row at a time\n",
    "        else:\n",
    "            X.loc[:,column] -= y0\n",
    "        counter +=  1\n",
    "\n",
    "    return X"
   ]
  },
  {
   "cell_type": "markdown",
   "id": "8c5dfb7c",
   "metadata": {},
   "source": [
    "### Function to normalize the landmarks into a 1 by 1 square:"
   ]
  },
  {
   "cell_type": "markdown",
   "id": "a4a71a59",
   "metadata": {},
   "source": [
    "I am not performing a normalization over the dataset. I am normalizing sample by sample, this is: getting the x_max, y_max, x_min, and y_min **of each sample** and normalize the coordinates vertically and horizontally. "
   ]
  },
  {
   "cell_type": "markdown",
   "id": "03dabcba",
   "metadata": {},
   "source": [
    "#### To normalize a sample"
   ]
  },
  {
   "cell_type": "code",
   "execution_count": 2,
   "id": "e1cb7376",
   "metadata": {},
   "outputs": [],
   "source": [
    "def normalize_pos(pos):\n",
    "    \n",
    "    x_coords_list, y_coords_list = separate_x_y(pos)\n",
    "    max_x = max(x_coords_list)\n",
    "    min_x = min(x_coords_list)\n",
    "    max_y = max(y_coords_list)\n",
    "    min_y = min(y_coords_list)\n",
    "    \n",
    "    for i in range(len(pos)):\n",
    "        if i%2==0:\n",
    "            pos[i] = (pos[i]- min_x)/(max_x-min_x)\n",
    "        else:\n",
    "            pos[i] = (pos[i]- min_y)/(max_y-min_y)    \n",
    "        \n",
    "    return pos\n"
   ]
  },
  {
   "cell_type": "markdown",
   "id": "36f2346d",
   "metadata": {},
   "source": [
    "#### To normalize the dataset "
   ]
  },
  {
   "cell_type": "code",
   "execution_count": 3,
   "id": "d3e4bb4e",
   "metadata": {},
   "outputs": [],
   "source": [
    "def normalize_dataset(X):\n",
    "    \n",
    "    X_normalized = X.copy()\n",
    "    \n",
    "    for i in range(len(X)):\n",
    "        X_normalized.iloc[i] = normalize_pos(X.iloc[i])\n",
    "        \n",
    "    return X_normalized"
   ]
  },
  {
   "cell_type": "markdown",
   "id": "4e894468",
   "metadata": {},
   "source": [
    "To visualize the effects of normalization (sanmplewise) and the change of origin I built a function to visualize the landmarks"
   ]
  },
  {
   "cell_type": "markdown",
   "id": "0f87e4b3",
   "metadata": {},
   "source": [
    "### Function to visualize a sample:"
   ]
  },
  {
   "cell_type": "code",
   "execution_count": 40,
   "id": "75fa95b8",
   "metadata": {},
   "outputs": [],
   "source": [
    "def plot_landmarks(pos, scaled:bool): # In case of ploting more than one sample in the same show() I would use multiple\n",
    "    \n",
    "    x_coords_list, y_coords_list = separate_x_y(pos) #pos is a list of coordinates i need to split it for the plot\n",
    "    print(f'x=   {x_coords_list}')\n",
    "    print(f'y=   {y_coords_list}')\n",
    "    scatter_plot(scaled, x_coords_list, y_coords_list)\n",
    "    lines_plot(x_coords_list, y_coords_list)\n",
    "    \n",
    "    plt.show()\n",
    "    \n",
    "#function to split the pos list into 2 lists for the vertical and horizontal coordinates        \n",
    "def separate_x_y(pos):\n",
    "    \n",
    "    x = [] \n",
    "    y = [] \n",
    "    counter =0\n",
    "    \n",
    "    for i in pos:\n",
    "        if counter%2==0:\n",
    "            x.append(i)\n",
    "        else: y.append(i)\n",
    "        counter += 1\n",
    "        \n",
    "    return x, y\n",
    "\n",
    "\n",
    "def scatter_plot(scaled:bool, x_coords_list, y_coords_list):\n",
    "    plt.scatter(x_coords_list, y_coords_list, s=40)\n",
    "    plt.xlabel('x')\n",
    "    plt.ylabel('y')\n",
    "    plt.xlim([0, max(x_coords_list)+10])\n",
    "    plt.ylim([0, max(y_coords_list)+10])\n",
    "    plt.title('Hand-Landmarks')\n",
    "    if scaled:\n",
    "        plt.axis('scaled')\n",
    "        pass\n",
    "    else: pass\n",
    "            \n",
    "\n",
    "\n",
    "def lines_plot(x_coords_list, y_coords_list):\n",
    "    \n",
    "    pairs = [[0,1], [1,2], [2,3], [3,4], [0,5], [5,6], [6,7], [7,8], [5,9], \n",
    "             [9,10], [10,11], [11,12], [9,13], [13,14], [14,15], [15,16], [13,17],\n",
    "             [17,18], [18,19], [19,20], [0,17]]\n",
    "    \n",
    "    for points in pairs:\n",
    "        A_index = points[0]\n",
    "        B_index = points[1]\n",
    "        x_coords = [x_coords_list[A_index], x_coords_list[B_index]]\n",
    "        y_coords = [y_coords_list[A_index], y_coords_list[B_index]]\n",
    "        plt.plot(x_coords, y_coords, linewidth = 3)\n",
    "        \n",
    "             "
   ]
  },
  {
   "cell_type": "markdown",
   "id": "7ffb8696",
   "metadata": {},
   "source": [
    "Let's visualize a sample"
   ]
  },
  {
   "cell_type": "markdown",
   "id": "a4d4236a",
   "metadata": {},
   "source": [
    "#### 1. Raw sample before any change "
   ]
  },
  {
   "cell_type": "code",
   "execution_count": 41,
   "id": "c078bd4f",
   "metadata": {},
   "outputs": [],
   "source": [
    "import pandas as pd\n",
    "import matplotlib.pyplot as plt\n",
    "import random\n",
    "import numpy as np"
   ]
  },
  {
   "cell_type": "code",
   "execution_count": 42,
   "id": "5214c872",
   "metadata": {},
   "outputs": [
    {
     "data": {
      "text/html": [
       "<div>\n",
       "<style scoped>\n",
       "    .dataframe tbody tr th:only-of-type {\n",
       "        vertical-align: middle;\n",
       "    }\n",
       "\n",
       "    .dataframe tbody tr th {\n",
       "        vertical-align: top;\n",
       "    }\n",
       "\n",
       "    .dataframe thead th {\n",
       "        text-align: right;\n",
       "    }\n",
       "</style>\n",
       "<table border=\"1\" class=\"dataframe\">\n",
       "  <thead>\n",
       "    <tr style=\"text-align: right;\">\n",
       "      <th></th>\n",
       "      <th>label</th>\n",
       "      <th>x0</th>\n",
       "      <th>y0</th>\n",
       "      <th>x1</th>\n",
       "      <th>y1</th>\n",
       "      <th>x2</th>\n",
       "      <th>y2</th>\n",
       "      <th>x3</th>\n",
       "      <th>y3</th>\n",
       "      <th>x4</th>\n",
       "      <th>...</th>\n",
       "      <th>x16</th>\n",
       "      <th>y16</th>\n",
       "      <th>x17</th>\n",
       "      <th>y17</th>\n",
       "      <th>x18</th>\n",
       "      <th>y18</th>\n",
       "      <th>x19</th>\n",
       "      <th>y19</th>\n",
       "      <th>x20</th>\n",
       "      <th>y20</th>\n",
       "    </tr>\n",
       "  </thead>\n",
       "  <tbody>\n",
       "    <tr>\n",
       "      <th>0</th>\n",
       "      <td>1</td>\n",
       "      <td>582.0</td>\n",
       "      <td>458.0</td>\n",
       "      <td>517.0</td>\n",
       "      <td>457.0</td>\n",
       "      <td>469.0</td>\n",
       "      <td>424.0</td>\n",
       "      <td>460.0</td>\n",
       "      <td>380.0</td>\n",
       "      <td>477.0</td>\n",
       "      <td>...</td>\n",
       "      <td>562.0</td>\n",
       "      <td>378.0</td>\n",
       "      <td>590.0</td>\n",
       "      <td>354.0</td>\n",
       "      <td>586.0</td>\n",
       "      <td>329.0</td>\n",
       "      <td>589.0</td>\n",
       "      <td>360.0</td>\n",
       "      <td>591.0</td>\n",
       "      <td>375.0</td>\n",
       "    </tr>\n",
       "    <tr>\n",
       "      <th>1</th>\n",
       "      <td>1</td>\n",
       "      <td>557.0</td>\n",
       "      <td>428.0</td>\n",
       "      <td>497.0</td>\n",
       "      <td>407.0</td>\n",
       "      <td>458.0</td>\n",
       "      <td>371.0</td>\n",
       "      <td>434.0</td>\n",
       "      <td>334.0</td>\n",
       "      <td>431.0</td>\n",
       "      <td>...</td>\n",
       "      <td>513.0</td>\n",
       "      <td>306.0</td>\n",
       "      <td>555.0</td>\n",
       "      <td>318.0</td>\n",
       "      <td>543.0</td>\n",
       "      <td>282.0</td>\n",
       "      <td>537.0</td>\n",
       "      <td>285.0</td>\n",
       "      <td>538.0</td>\n",
       "      <td>295.0</td>\n",
       "    </tr>\n",
       "    <tr>\n",
       "      <th>2</th>\n",
       "      <td>1</td>\n",
       "      <td>550.0</td>\n",
       "      <td>391.0</td>\n",
       "      <td>499.0</td>\n",
       "      <td>358.0</td>\n",
       "      <td>468.0</td>\n",
       "      <td>326.0</td>\n",
       "      <td>444.0</td>\n",
       "      <td>297.0</td>\n",
       "      <td>427.0</td>\n",
       "      <td>...</td>\n",
       "      <td>494.0</td>\n",
       "      <td>237.0</td>\n",
       "      <td>541.0</td>\n",
       "      <td>296.0</td>\n",
       "      <td>529.0</td>\n",
       "      <td>262.0</td>\n",
       "      <td>523.0</td>\n",
       "      <td>244.0</td>\n",
       "      <td>519.0</td>\n",
       "      <td>234.0</td>\n",
       "    </tr>\n",
       "    <tr>\n",
       "      <th>3</th>\n",
       "      <td>1</td>\n",
       "      <td>499.0</td>\n",
       "      <td>281.0</td>\n",
       "      <td>439.0</td>\n",
       "      <td>275.0</td>\n",
       "      <td>393.0</td>\n",
       "      <td>245.0</td>\n",
       "      <td>374.0</td>\n",
       "      <td>202.0</td>\n",
       "      <td>378.0</td>\n",
       "      <td>...</td>\n",
       "      <td>472.0</td>\n",
       "      <td>212.0</td>\n",
       "      <td>507.0</td>\n",
       "      <td>187.0</td>\n",
       "      <td>491.0</td>\n",
       "      <td>155.0</td>\n",
       "      <td>494.0</td>\n",
       "      <td>189.0</td>\n",
       "      <td>500.0</td>\n",
       "      <td>204.0</td>\n",
       "    </tr>\n",
       "    <tr>\n",
       "      <th>4</th>\n",
       "      <td>1</td>\n",
       "      <td>489.0</td>\n",
       "      <td>275.0</td>\n",
       "      <td>428.0</td>\n",
       "      <td>268.0</td>\n",
       "      <td>385.0</td>\n",
       "      <td>237.0</td>\n",
       "      <td>365.0</td>\n",
       "      <td>194.0</td>\n",
       "      <td>364.0</td>\n",
       "      <td>...</td>\n",
       "      <td>461.0</td>\n",
       "      <td>201.0</td>\n",
       "      <td>495.0</td>\n",
       "      <td>179.0</td>\n",
       "      <td>484.0</td>\n",
       "      <td>144.0</td>\n",
       "      <td>486.0</td>\n",
       "      <td>176.0</td>\n",
       "      <td>490.0</td>\n",
       "      <td>193.0</td>\n",
       "    </tr>\n",
       "  </tbody>\n",
       "</table>\n",
       "<p>5 rows × 43 columns</p>\n",
       "</div>"
      ],
      "text/plain": [
       "   label     x0     y0     x1     y1     x2     y2     x3     y3     x4  ...  \\\n",
       "0      1  582.0  458.0  517.0  457.0  469.0  424.0  460.0  380.0  477.0  ...   \n",
       "1      1  557.0  428.0  497.0  407.0  458.0  371.0  434.0  334.0  431.0  ...   \n",
       "2      1  550.0  391.0  499.0  358.0  468.0  326.0  444.0  297.0  427.0  ...   \n",
       "3      1  499.0  281.0  439.0  275.0  393.0  245.0  374.0  202.0  378.0  ...   \n",
       "4      1  489.0  275.0  428.0  268.0  385.0  237.0  365.0  194.0  364.0  ...   \n",
       "\n",
       "     x16    y16    x17    y17    x18    y18    x19    y19    x20    y20  \n",
       "0  562.0  378.0  590.0  354.0  586.0  329.0  589.0  360.0  591.0  375.0  \n",
       "1  513.0  306.0  555.0  318.0  543.0  282.0  537.0  285.0  538.0  295.0  \n",
       "2  494.0  237.0  541.0  296.0  529.0  262.0  523.0  244.0  519.0  234.0  \n",
       "3  472.0  212.0  507.0  187.0  491.0  155.0  494.0  189.0  500.0  204.0  \n",
       "4  461.0  201.0  495.0  179.0  484.0  144.0  486.0  176.0  490.0  193.0  \n",
       "\n",
       "[5 rows x 43 columns]"
      ]
     },
     "execution_count": 42,
     "metadata": {},
     "output_type": "execute_result"
    }
   ],
   "source": [
    "raw_dataset_df = pd.read_csv('datasets/raw_dataset.csv') #import dataset\n",
    "raw_dataset_df.head()"
   ]
  },
  {
   "cell_type": "code",
   "execution_count": 43,
   "id": "dc52fd3d",
   "metadata": {},
   "outputs": [
    {
     "name": "stdout",
     "output_type": "stream",
     "text": [
      "x0     350.0\n",
      "y0     329.0\n",
      "x1     339.0\n",
      "y1     313.0\n",
      "x2     350.0\n",
      "y2     280.0\n",
      "x3     392.0\n",
      "y3     258.0\n",
      "x4     426.0\n",
      "y4     243.0\n",
      "x5     334.0\n",
      "y5     225.0\n",
      "x6     339.0\n",
      "y6     176.0\n",
      "x7     347.0\n",
      "y7     143.0\n",
      "x8     354.0\n",
      "y8     112.0\n",
      "x9     359.0\n",
      "y9     221.0\n",
      "x10    362.0\n",
      "y10    170.0\n",
      "x11    370.0\n",
      "y11    137.0\n",
      "x12    376.0\n",
      "y12    106.0\n",
      "x13    380.0\n",
      "y13    231.0\n",
      "x14    401.0\n",
      "y14    193.0\n",
      "x15    419.0\n",
      "y15    167.0\n",
      "x16    432.0\n",
      "y16    142.0\n",
      "x17    395.0\n",
      "y17    251.0\n",
      "x18    412.0\n",
      "y18    233.0\n",
      "x19    413.0\n",
      "y19    241.0\n",
      "x20    409.0\n",
      "y20    250.0\n",
      "Name: 25716, dtype: float64\n"
     ]
    }
   ],
   "source": [
    "np.random.seed(2021)\n",
    "random_index = np.random.randint(0, len(raw_dataset_df), 1)[0]\n",
    "print(raw_dataset_df.iloc[random_index, 1:])"
   ]
  },
  {
   "cell_type": "code",
   "execution_count": 44,
   "id": "7d4a419c",
   "metadata": {},
   "outputs": [
    {
     "name": "stdout",
     "output_type": "stream",
     "text": [
      "x=   [350.0, 339.0, 350.0, 392.0, 426.0, 334.0, 339.0, 347.0, 354.0, 359.0, 362.0, 370.0, 376.0, 380.0, 401.0, 419.0, 432.0, 395.0, 412.0, 413.0, 409.0]\n",
      "y=   [329.0, 313.0, 280.0, 258.0, 243.0, 225.0, 176.0, 143.0, 112.0, 221.0, 170.0, 137.0, 106.0, 231.0, 193.0, 167.0, 142.0, 251.0, 233.0, 241.0, 250.0]\n"
     ]
    },
    {
     "data": {
      "image/png": "[encoded data removed]",
      "text/plain": [
       "<Figure size 432x288 with 1 Axes>"
      ]
     },
     "metadata": {
      "needs_background": "light"
     },
     "output_type": "display_data"
    }
   ],
   "source": [
    "plot_landmarks(raw_dataset_df.iloc[random_index, 1:], False)"
   ]
  },
  {
   "cell_type": "code",
   "execution_count": 45,
   "id": "1c4fae26",
   "metadata": {},
   "outputs": [
    {
     "name": "stdout",
     "output_type": "stream",
     "text": [
      "    x0   y0    x1    y1     x2    y2     x3    y3     x4     y4  ...   x16  \\\n",
      "0  0.0  0.0 -65.0  -1.0 -113.0 -34.0 -122.0 -78.0 -105.0 -103.0  ... -20.0   \n",
      "1  0.0  0.0 -60.0 -21.0  -99.0 -57.0 -123.0 -94.0 -126.0 -126.0  ... -44.0   \n",
      "2  0.0  0.0 -51.0 -33.0  -82.0 -65.0 -106.0 -94.0 -123.0 -121.0  ... -56.0   \n",
      "3  0.0  0.0 -60.0  -6.0 -106.0 -36.0 -125.0 -79.0 -121.0 -113.0  ... -27.0   \n",
      "4  0.0  0.0 -61.0  -7.0 -104.0 -38.0 -124.0 -81.0 -125.0 -117.0  ... -28.0   \n",
      "\n",
      "     y16  x17    y17   x18    y18   x19    y19   x20    y20  \n",
      "0  -80.0  8.0 -104.0   4.0 -129.0   7.0  -98.0   9.0  -83.0  \n",
      "1 -122.0 -2.0 -110.0 -14.0 -146.0 -20.0 -143.0 -19.0 -133.0  \n",
      "2 -154.0 -9.0  -95.0 -21.0 -129.0 -27.0 -147.0 -31.0 -157.0  \n",
      "3  -69.0  8.0  -94.0  -8.0 -126.0  -5.0  -92.0   1.0  -77.0  \n",
      "4  -74.0  6.0  -96.0  -5.0 -131.0  -3.0  -99.0   1.0  -82.0  \n",
      "\n",
      "[5 rows x 42 columns]\n"
     ]
    }
   ],
   "source": [
    "X = raw_dataset_df.iloc[:, 1:]\n",
    "X_centered = change_origin(X)\n",
    "print(X_centered.head())"
   ]
  },
  {
   "cell_type": "code",
   "execution_count": 46,
   "id": "58c3bc7b",
   "metadata": {},
   "outputs": [
    {
     "name": "stdout",
     "output_type": "stream",
     "text": [
      "x=   [0.0, -11.0, 0.0, 42.0, 76.0, -16.0, -11.0, -3.0, 4.0, 9.0, 12.0, 20.0, 26.0, 30.0, 51.0, 69.0, 82.0, 45.0, 62.0, 63.0, 59.0]\n",
      "y=   [0.0, -16.0, -49.0, -71.0, -86.0, -104.0, -153.0, -186.0, -217.0, -108.0, -159.0, -192.0, -223.0, -98.0, -136.0, -162.0, -187.0, -78.0, -96.0, -88.0, -79.0]\n"
     ]
    },
    {
     "data": {
      "image/png": "[encoded data removed]",
      "text/plain": [
       "<Figure size 432x288 with 1 Axes>"
      ]
     },
     "metadata": {
      "needs_background": "light"
     },
     "output_type": "display_data"
    }
   ],
   "source": [
    "plot_landmarks(X_centered.iloc[random_index, 0:], True)"
   ]
  },
  {
   "cell_type": "code",
   "execution_count": null,
   "id": "f4708e0e",
   "metadata": {},
   "outputs": [],
   "source": []
  },
  {
   "cell_type": "code",
   "execution_count": null,
   "id": "adfb999b",
   "metadata": {},
   "outputs": [],
   "source": []
  }
 ],
 "metadata": {
  "kernelspec": {
   "display_name": "Python 3",
   "language": "python",
   "name": "python3"
  },
  "language_info": {
   "codemirror_mode": {
    "name": "ipython",
    "version": 3
   },
   "file_extension": ".py",
   "mimetype": "text/x-python",
   "name": "python",
   "nbconvert_exporter": "python",
   "pygments_lexer": "ipython3",
   "version": "3.8.5"
  }
 },
 "nbformat": 4,
 "nbformat_minor": 5
}
